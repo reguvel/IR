{
 "cells": [
  {
   "cell_type": "code",
   "execution_count": null,
   "id": "2f8ddf80",
   "metadata": {},
   "outputs": [],
   "source": []
  },
  {
   "cell_type": "code",
   "execution_count": 1,
   "id": "6fbe11b0",
   "metadata": {},
   "outputs": [],
   "source": [
    "import numpy as np\n",
    "import re"
   ]
  },
  {
   "cell_type": "code",
   "execution_count": 11,
   "id": "1f4b9c5b",
   "metadata": {},
   "outputs": [],
   "source": [
    "def bqueryEval(query,d):\n",
    "    pf = query\n",
    "    stack = []\n",
    "    if len(pf)==1:\n",
    "        if pf[0] in d.keys():\n",
    "            return d[pf[0]]\n",
    "        else:\n",
    "            return \"none\"\n",
    "    else:\n",
    "        for i in pf:\n",
    "            if i =='AND':\n",
    "                op1 = stack.pop()\n",
    "                op2 = stack.pop()\n",
    "                if (isinstance(op1,str)) and (op1 in d.keys()):\n",
    "                    op1 = d[op1]\n",
    "                else:\n",
    "                    op1=set()\n",
    "                if (isinstance(op2,str)) and (op2 in d.keys()):\n",
    "                    op2 = d[op2]\n",
    "                else:\n",
    "                    op2=set()\n",
    "                r = op1.intersection(op2)\n",
    "                stack.append(r)\n",
    "            else:\n",
    "                stack.append(i)\n",
    "    return stack.pop()"
   ]
  },
  {
   "cell_type": "code",
   "execution_count": 13,
   "id": "fb70e794",
   "metadata": {},
   "outputs": [
    {
     "name": "stdout",
     "output_type": "stream",
     "text": [
      "{'sita lives': {0}, 'in guntur': {0}, 'in lanka': {0}, 'guntur and': {0}, 'in kailaasam': {1}, 'lives in': {0, 1}, 'kailash lives': {1}, 'rama lives': {0}, 'and sita': {0}}\n",
      "Enter the Phrase:\n",
      "sita and\n",
      "The Relevant DocIds are: none\n"
     ]
    }
   ],
   "source": [
    "import re\n",
    "docs = []\n",
    "terms = set()\n",
    "#l = input(\"Enter the documents : \").split()\n",
    "l=[\"doc1.txt\",\"doc2.txt\"]\n",
    "for i in l:\n",
    "    file = open(i,'r').read().lower()\n",
    "    content = re.sub(\"[^a-z0-9]\",\" \",file).split()\n",
    "    bdocs=[]\n",
    "    for i in range(0,len(content)-1):\n",
    "        bdocs.append(\" \".join([content[i],content[i+1]]))\n",
    "    terms.update(bdocs)\n",
    "    docs.append(set(bdocs))\n",
    "# print(docs)\n",
    "# print(terms)\n",
    "d = {}\n",
    "for i in terms:\n",
    "    post_list = []\n",
    "    for j in range(len(docs)):\n",
    "        if i in docs[j]:\n",
    "            post_list.append(j)\n",
    "    d[i] = set(post_list)\n",
    "print(d)\n",
    "print(\"Enter the Phrase:\")\n",
    "phrase=input().lower()\n",
    "content = re.sub(\"[^a-z0-9]\",\" \",phrase).split()\n",
    "pdocs=[]\n",
    "for i in range(0,len(content)-1):\n",
    "        pdocs.append(\" \".join([content[i],content[i+1]]))\n",
    "pdocs=list(set(pdocs))\n",
    "#print(pdocs)\n",
    "\n",
    "pdocs+=['AND']*(len(pdocs) - 1)\n",
    "#print(pdocs)\n",
    "resultDoc = bqueryEval(pdocs,d)\n",
    "\n",
    "print(\"The Relevant DocIds are:\",resultDoc)"
   ]
  },
  {
   "cell_type": "code",
   "execution_count": null,
   "id": "ca350106",
   "metadata": {},
   "outputs": [],
   "source": []
  },
  {
   "cell_type": "code",
   "execution_count": null,
   "id": "7b1da5ba",
   "metadata": {},
   "outputs": [],
   "source": []
  }
 ],
 "metadata": {
  "kernelspec": {
   "display_name": "Python 3 (ipykernel)",
   "language": "python",
   "name": "python3"
  },
  "language_info": {
   "codemirror_mode": {
    "name": "ipython",
    "version": 3
   },
   "file_extension": ".py",
   "mimetype": "text/x-python",
   "name": "python",
   "nbconvert_exporter": "python",
   "pygments_lexer": "ipython3",
   "version": "3.11.3"
  }
 },
 "nbformat": 4,
 "nbformat_minor": 5
}
