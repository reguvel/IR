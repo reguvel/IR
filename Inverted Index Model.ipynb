{
 "cells": [
  {
   "cell_type": "code",
   "execution_count": 47,
   "id": "3613ff20",
   "metadata": {},
   "outputs": [],
   "source": [
    "import numpy as np\n",
    "import re"
   ]
  },
  {
   "cell_type": "code",
   "execution_count": 48,
   "id": "1ea1080c",
   "metadata": {},
   "outputs": [],
   "source": [
    "def precedence(op):\n",
    "    if op == 'NOT':\n",
    "        return 3\n",
    "    elif op == 'AND':\n",
    "        return 2\n",
    "    elif op == 'OR':\n",
    "        return 1\n",
    "    else:\n",
    "        return 0\n",
    "\n",
    "def postfix(l):\n",
    "    pf = []\n",
    "    stack = []\n",
    "    opList = ['AND','OR','NOT']\n",
    "    for i in l:\n",
    "        if i in opList:\n",
    "            if stack == []:\n",
    "                stack.append(i)\n",
    "            else:\n",
    "                while(stack != [] and precedence(i) <= precedence(stack[-1])):\n",
    "                    pf.append(stack.pop())\n",
    "                stack.append(i)\n",
    "        elif i == '(':\n",
    "            stack.append(i)\n",
    "        elif i == ')':\n",
    "            while(stack[-1] != '('):\n",
    "                pf.append(stack.pop())\n",
    "            stack.pop()\n",
    "        else:\n",
    "            pf.append(i)\n",
    "    while(stack != []):\n",
    "        pf.append(stack.pop())\n",
    "    return pf\n",
    "\n",
    "def queryEval(query,d,l):\n",
    "    pf = postfix(query)\n",
    "    stack = []\n",
    "    opList = ['AND','OR','NOT']\n",
    "    for i in pf:\n",
    "        if i in opList:\n",
    "            if i == 'NOT':\n",
    "                op = stack.pop()\n",
    "                if isinstance(op,str):\n",
    "                    r = set(l).difference(d[op])\n",
    "                else:\n",
    "                    r = set(l).difference(op)\n",
    "            elif i == 'AND':\n",
    "                op1 = stack.pop()\n",
    "                op2 = stack.pop()\n",
    "                if isinstance(op1,str):\n",
    "                    op1 = d[op1]\n",
    "                if isinstance(op2,str):\n",
    "                    op2 = d[op2]\n",
    "                r = op1.intersection(op2)\n",
    "            else:\n",
    "                op1 = stack.pop()\n",
    "                op2 = stack.pop()\n",
    "                if isinstance(op1,str):\n",
    "                    op1 = d[op1]\n",
    "                if isinstance(op2,str):\n",
    "                    op2 = d[op2]\n",
    "                r = op1.union(op2)\n",
    "            stack.append(r)\n",
    "        else:\n",
    "            stack.append(i)\n",
    "    return stack.pop()"
   ]
  },
  {
   "cell_type": "code",
   "execution_count": 51,
   "id": "40a51026",
   "metadata": {},
   "outputs": [
    {
     "name": "stdout",
     "output_type": "stream",
     "text": [
      "Enter the documents : doc1.txt doc2.txt doc3.txt doc4.txt\n",
      "\n",
      "The term insurance matrix have been created.\n",
      "Rules for entering the query:\n",
      " 1.There should be a single space between operand and operator\n",
      " 2.There should be space before And after '(' , ')'\n",
      "Enter the query:\n",
      "approach OR NOT ( hopes AND schizophrenia ) AND drug\n",
      "{'doc3.txt', 'doc2.txt', 'doc1.txt'}\n"
     ]
    }
   ],
   "source": [
    "docs = []\n",
    "terms = set()\n",
    "l = input(\"Enter the documents : \").split()\n",
    "\n",
    "for i in l:\n",
    "    file = open(i,'r').read().lower()\n",
    "    content = re.sub(\"[^a-z0-9]\",\" \",file).split()\n",
    "    terms.update(content)\n",
    "    docs.append(set(content))\n",
    "    \n",
    "d = {}\n",
    "for i in terms:\n",
    "    post_list = []\n",
    "    for j in range(len(docs)):\n",
    "        if i in docs[j]:\n",
    "            post_list.append(l[j])\n",
    "    d[i] = set(post_list)\n",
    "\n",
    "rules = \"\"\"\n",
    "The term insurance matrix have been created.\n",
    "Rules for entering the query:\n",
    " 1.There should be a single space between operand and operator\n",
    " 2.There should be space before And after '(' , ')'\n",
    "Enter the query:\n",
    "\"\"\"\n",
    "query = input(rules).split()\n",
    "# resultDoc = queryEval(\"approach OR NOT hopes AND schizophrenia AND drug\".split(),d,l)\n",
    "resultDoc = queryEval(query,d,l)\n",
    "print(resultDoc)"
   ]
  },
  {
   "cell_type": "code",
   "execution_count": 32,
   "id": "0c82947e",
   "metadata": {},
   "outputs": [
    {
     "name": "stdout",
     "output_type": "stream",
     "text": [
      "None\n",
      "[1, 2, 34, {1, 2, 34}]\n"
     ]
    }
   ],
   "source": []
  },
  {
   "cell_type": "code",
   "execution_count": null,
   "id": "ab8454dc",
   "metadata": {},
   "outputs": [],
   "source": []
  }
 ],
 "metadata": {
  "kernelspec": {
   "display_name": "Python 3 (ipykernel)",
   "language": "python",
   "name": "python3"
  },
  "language_info": {
   "codemirror_mode": {
    "name": "ipython",
    "version": 3
   },
   "file_extension": ".py",
   "mimetype": "text/x-python",
   "name": "python",
   "nbconvert_exporter": "python",
   "pygments_lexer": "ipython3",
   "version": "3.11.3"
  }
 },
 "nbformat": 4,
 "nbformat_minor": 5
}
