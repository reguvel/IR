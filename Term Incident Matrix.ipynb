{
 "cells": [
  {
   "cell_type": "code",
   "execution_count": 29,
   "metadata": {},
   "outputs": [],
   "source": [
    "import numpy as np\n",
    "import re"
   ]
  },
  {
   "cell_type": "code",
   "execution_count": 30,
   "metadata": {},
   "outputs": [],
   "source": [
    "def termIncidenceMatrix(l,n):\n",
    "    docs = []\n",
    "    terms = set()\n",
    "\n",
    "    for i in l:\n",
    "        file = open(i,'r').read().lower()\n",
    "        content = re.sub(\"[^a-z0-9]\",\" \",file).split()\n",
    "        terms.update(content)\n",
    "        docs.append(set(content))\n",
    "\n",
    "    mat = np.zeros((len(terms),n),dtype=\"bool\")\n",
    "    terms = sorted(terms)\n",
    "    for i in range(len(terms)):\n",
    "        for j in range(n):\n",
    "            if terms[i] in docs[j]:\n",
    "                mat[i][j] = 1\n",
    "                \n",
    "            else:\n",
    "                mat[i][j] = 0\n",
    "    return mat,terms"
   ]
  },
  {
   "cell_type": "code",
   "execution_count": 31,
   "metadata": {},
   "outputs": [],
   "source": [
    "def precedence(op):\n",
    "    if op == 'NOT':\n",
    "        return 3\n",
    "    elif op == 'AND':\n",
    "        return 2\n",
    "    elif op == 'OR':\n",
    "        return 1\n",
    "    else:\n",
    "        return 0\n",
    "    \n",
    "def postfix(l):\n",
    "    pf = []\n",
    "    stack = []\n",
    "    opList = ['AND','OR','NOT']\n",
    "    for i in l:\n",
    "        if i in opList:\n",
    "            if stack == []:\n",
    "                stack.append(i)\n",
    "            else:\n",
    "                while(stack != [] and precedence(i) <= precedence(stack[-1])):\n",
    "                    pf.append(stack.pop())\n",
    "                stack.append(i)\n",
    "        elif i == '(':\n",
    "            stack.append(i)\n",
    "        elif i == ')':\n",
    "            while(stack[-1] != '('):\n",
    "                pf.append(stack.pop())\n",
    "            stack.pop()\n",
    "        else:\n",
    "            pf.append(i)\n",
    "    while(stack != []):\n",
    "        pf.append(stack.pop())\n",
    "    return pf\n",
    "\n",
    "def queryEval(query,d):\n",
    "    pf = postfix(query)\n",
    "    stack = []\n",
    "    opList = ['AND','OR','NOT']\n",
    "    for i in pf:\n",
    "        if i in opList:\n",
    "            if i == 'NOT':\n",
    "                op = stack.pop()\n",
    "                if isinstance(op,str):\n",
    "                    r = ~d[op]\n",
    "                else:\n",
    "                    r = ~op\n",
    "            elif i == 'AND':\n",
    "                op1 = stack.pop()\n",
    "                op2 = stack.pop()\n",
    "                if isinstance(op1,str):\n",
    "                    op1 = d[op1]\n",
    "                if isinstance(op2,str):\n",
    "                    op2 = d[op2]\n",
    "                r = op1&op2\n",
    "            else:\n",
    "                op1 = stack.pop()\n",
    "                op2 = stack.pop()\n",
    "                if isinstance(op1,str):\n",
    "                    op1 = d[op1]\n",
    "                if isinstance(op2,str):\n",
    "                    op2 = d[op2]\n",
    "                r = op1|op2\n",
    "            stack.append(r)\n",
    "        else:\n",
    "            stack.append(i)\n",
    "    return stack.pop()"
   ]
  },
  {
   "cell_type": "code",
   "execution_count": 33,
   "metadata": {},
   "outputs": [
    {
     "ename": "IndexError",
     "evalue": "only integers, slices (`:`), ellipsis (`...`), numpy.newaxis (`None`) and integer or boolean arrays are valid indices",
     "output_type": "error",
     "traceback": [
      "\u001b[1;31m---------------------------------------------------------------------------\u001b[0m",
      "\u001b[1;31mIndexError\u001b[0m                                Traceback (most recent call last)",
      "Cell \u001b[1;32mIn[33], line 21\u001b[0m\n\u001b[0;32m     19\u001b[0m \u001b[39m# query = input(rules).split()\u001b[39;00m\n\u001b[0;32m     20\u001b[0m resultDoc \u001b[39m=\u001b[39m queryEval(\u001b[39m\"\u001b[39m\u001b[39mdrug AND approach\u001b[39m\u001b[39m\"\u001b[39m,d)\n\u001b[1;32m---> 21\u001b[0m \u001b[39mprint\u001b[39m(l[resultDoc])\n",
      "\u001b[1;31mIndexError\u001b[0m: only integers, slices (`:`), ellipsis (`...`), numpy.newaxis (`None`) and integer or boolean arrays are valid indices"
     ]
    }
   ],
   "source": [
    "n = 4\n",
    "l = np.array([\"doc1.txt\",\"doc2.txt\",\"doc3.txt\",\"doc4.txt\"])\n",
    "# n = int(input(\"Enter the no. of documents : \"))\n",
    "# l = []\n",
    "# for i in range(n):\n",
    "#     l.append(input(\"Enter the doc - \"+str(i+1)+\" name : \"))\n",
    "# l = np.array(l)\n",
    "TIM,terms = termIncidenceMatrix(l,n)\n",
    "d = {}\n",
    "for i in range(len(terms)):\n",
    "    d[terms[i]] = TIM[i]\n",
    "rules = \"\"\"\n",
    "The term insurance matrix have been created.\n",
    "Rules for entering the query:\n",
    " 1.There should be a single space between operand and operator\n",
    " 2.There should be space before And after '(' , ')'\n",
    "Enter the query:\n",
    "\"\"\"\n",
    "# query = input(rules).split()\n",
    "resultDoc = queryEval(\"drug AND approach\",d)\n",
    "print(l[resultDoc])"
   ]
  }
 ],
 "metadata": {
  "kernelspec": {
   "display_name": "Python 3 (ipykernel)",
   "language": "python",
   "name": "python3"
  },
  "language_info": {
   "codemirror_mode": {
    "name": "ipython",
    "version": 3
   },
   "file_extension": ".py",
   "mimetype": "text/x-python",
   "name": "python",
   "nbconvert_exporter": "python",
   "pygments_lexer": "ipython3",
   "version": "3.11.3"
  }
 },
 "nbformat": 4,
 "nbformat_minor": 2
}
